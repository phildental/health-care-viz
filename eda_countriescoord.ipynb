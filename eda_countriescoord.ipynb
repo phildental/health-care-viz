{
 "cells": [
  {
   "cell_type": "code",
   "execution_count": null,
   "metadata": {},
   "outputs": [
    {
     "ename": "",
     "evalue": "",
     "output_type": "error",
     "traceback": [
      "\u001b[1;31mFailed to start the Kernel. \n",
      "\u001b[1;31mJupyter server crashed. Unable to connect. \n",
      "\u001b[1;31mError code from Jupyter: 1\n",
      "\u001b[1;31musage: jupyter.py [-h] [--version] [--config-dir] [--data-dir] [--runtime-dir]\n",
      "\u001b[1;31m                  [--paths] [--json] [--debug]\n",
      "\u001b[1;31m                  [subcommand]\n",
      "\u001b[1;31m\n",
      "\u001b[1;31mJupyter: Interactive Computing\n",
      "\u001b[1;31m\n",
      "\u001b[1;31mpositional arguments:\n",
      "\u001b[1;31m  subcommand     the subcommand to launch\n",
      "\u001b[1;31m\n",
      "\u001b[1;31moptions:\n",
      "\u001b[1;31m  -h, --help     show this help message and exit\n",
      "\u001b[1;31m  --version      show the versions of core jupyter packages and exit\n",
      "\u001b[1;31m  --config-dir   show Jupyter config dir\n",
      "\u001b[1;31m  --data-dir     show Jupyter data dir\n",
      "\u001b[1;31m  --runtime-dir  show Jupyter runtime dir\n",
      "\u001b[1;31m  --paths        show all Jupyter paths. Add --json for machine-readable\n",
      "\u001b[1;31m                 format.\n",
      "\u001b[1;31m  --json         output paths as machine-readable json\n",
      "\u001b[1;31m  --debug        output debug information about paths\n",
      "\u001b[1;31m\n",
      "\u001b[1;31mAvailable subcommands:\n",
      "\u001b[1;31m\n",
      "\u001b[1;31mJupyter command `jupyter-notebook` not found. \n",
      "\u001b[1;31mView Jupyter <a href='command:jupyter.viewOutput'>log</a> for further details."
     ]
    }
   ],
   "source": [
    "import pandas as pd\n",
    "import requests\n",
    "import requests_cache\n",
    "from coord import get_countries_coordinates\n",
    "\n",
    "# URLs\n",
    "dimension_url = 'https://ghoapi.azureedge.net/api/Dimension/'\n",
    "indicator_url = 'https://ghoapi.azureedge.net/api/Indicator'\n",
    "telehealth_url = 'https://ghoapi.azureedge.net/api/GOE_Q069'\n",
    "country_url = 'https://ghoapi.azureedge.net/api/DIMENSION/COUNTRY/DimensionValues'\n",
    "requests_cache.install_cache('http_cache')\n",
    "\n",
    "# Use context managers to handle the HTTP requests\n",
    "with requests.get(dimension_url) as response:\n",
    "    dimension_data = response.json()\n",
    "\n",
    "with requests.get(indicator_url) as response:\n",
    "    indicator_data = response.json()\n",
    "\n",
    "with requests.get(telehealth_url) as response:\n",
    "    telehealth_data = response.json()\n",
    "\n",
    "with requests.get(country_url) as response:\n",
    "    country_data = response.json()\n",
    "\n",
    "# Convert the response JSON to DataFrames\n",
    "dimensions_df = pd.json_normalize(dimension_data['value'])\n",
    "indicators_df = pd.json_normalize(indicator_data['value'])\n",
    "telehealth_df = pd.json_normalize(telehealth_data['value'])\n",
    "countries_df = pd.json_normalize(country_data['value'])\n",
    "\n",
    "# Extract relevant columns and rename them\n",
    "dimensions_df = dimensions_df[['Code', 'Title']]\n",
    "dimensions_df.columns = ['DimensionCode', 'DimensionTitle']\n",
    "\n",
    "indicators_df = indicators_df[['IndicatorCode', 'IndicatorName', 'Language']]\n",
    "\n",
    "telehealth_df = telehealth_df[['Id', 'IndicatorCode', 'SpatialDim', 'TimeDim', 'Value']]\n",
    "telehealth_df.columns = ['TelehealthId', 'IndicatorCode', 'CountryCode', 'Year', 'Value']\n",
    "\n",
    "countries_df = countries_df[['Code', 'Title']]\n",
    "countries_df.columns = ['CountryCode', 'CountryName']\n",
    "\n",
    "# Merge the DataFrames\n",
    "metrics_df = countries_df.merge(telehealth_df, left_on='CountryCode', right_on='CountryCode')\n",
    "\n",
    "\n",
    "merged_df = get_countries_coordinates(metrics_df)\n",
    "\n",
    "\n",
    "# Merge Countries Coord. with metrics_df\n",
    "countriescoord_df = merged_df.merge(metrics_df, left_on='formatted', right_on='CountryName')\n",
    "\n",
    "print(countriescoord_df.head(100))"
   ]
  }
 ],
 "metadata": {
  "kernelspec": {
   "display_name": "base",
   "language": "python",
   "name": "python3"
  },
  "language_info": {
   "name": "python",
   "version": "3.9.12"
  },
  "orig_nbformat": 4,
  "vscode": {
   "interpreter": {
    "hash": "40d3a090f54c6569ab1632332b64b2c03c39dcf918b08424e98f38b5ae0af88f"
   }
  }
 },
 "nbformat": 4,
 "nbformat_minor": 2
}
